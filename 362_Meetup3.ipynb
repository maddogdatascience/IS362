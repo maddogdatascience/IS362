{
 "cells": [
  {
   "cell_type": "markdown",
   "metadata": {},
   "source": [
    "# %magic \n",
    "\n",
    "* **line** magics - single % prefix -- operate on a *single* line of text\n",
    "* **cell** magics - double %% prefix -- operate on *multiple* lines of text\n"
   ]
  },
  {
   "cell_type": "code",
   "execution_count": 1,
   "metadata": {
    "collapsed": false
   },
   "outputs": [
    {
     "name": "stdout",
     "output_type": "stream",
     "text": [
      "100 loops, best of 3: 3.15 ms per loop\n"
     ]
    }
   ],
   "source": [
    "% timeit L = [n ** 2 for n in range(10000)]"
   ]
  },
  {
   "cell_type": "code",
   "execution_count": 3,
   "metadata": {
    "collapsed": false
   },
   "outputs": [
    {
     "name": "stdout",
     "output_type": "stream",
     "text": [
      "100 loops, best of 3: 3.78 ms per loop\n"
     ]
    }
   ],
   "source": [
    "%%timeit\n",
    "L = []\n",
    "for n in range(10000):\n",
    "  L.append(n ** 2)"
   ]
  },
  {
   "cell_type": "markdown",
   "metadata": {},
   "source": [
    "## How do I get help on magic commands?"
   ]
  },
  {
   "cell_type": "code",
   "execution_count": 4,
   "metadata": {
    "collapsed": true
   },
   "outputs": [],
   "source": [
    "%timeit?"
   ]
  },
  {
   "cell_type": "code",
   "execution_count": 5,
   "metadata": {
    "collapsed": true
   },
   "outputs": [],
   "source": [
    "%magic"
   ]
  },
  {
   "cell_type": "markdown",
   "metadata": {},
   "source": [
    "# pandas"
   ]
  },
  {
   "cell_type": "code",
   "execution_count": 9,
   "metadata": {
    "collapsed": true
   },
   "outputs": [],
   "source": [
    "from pandas import Series, DataFrame\n",
    "import pandas as pd"
   ]
  },
  {
   "cell_type": "markdown",
   "metadata": {},
   "source": [
    "## getting help\n",
    "* type pd. then <tab>\n",
    "* type pd.Series(,  then <shift-tab> 1x, 2x, 3x"
   ]
  },
  {
   "cell_type": "code",
   "execution_count": null,
   "metadata": {
    "collapsed": true
   },
   "outputs": [],
   "source": [
    "# pd.Series()"
   ]
  },
  {
   "cell_type": "code",
   "execution_count": 13,
   "metadata": {
    "collapsed": false
   },
   "outputs": [
    {
     "data": {
      "text/html": [
       "<div>\n",
       "<table border=\"1\" class=\"dataframe\">\n",
       "  <thead>\n",
       "    <tr style=\"text-align: right;\">\n",
       "      <th></th>\n",
       "      <th>State</th>\n",
       "      <th>Abbreviation</th>\n",
       "    </tr>\n",
       "  </thead>\n",
       "  <tbody>\n",
       "    <tr>\n",
       "      <th>0</th>\n",
       "      <td>Alabama</td>\n",
       "      <td>AL</td>\n",
       "    </tr>\n",
       "    <tr>\n",
       "      <th>1</th>\n",
       "      <td>Alaska</td>\n",
       "      <td>AK</td>\n",
       "    </tr>\n",
       "    <tr>\n",
       "      <th>2</th>\n",
       "      <td>Arizona</td>\n",
       "      <td>AZ</td>\n",
       "    </tr>\n",
       "    <tr>\n",
       "      <th>3</th>\n",
       "      <td>Arkansas</td>\n",
       "      <td>AR</td>\n",
       "    </tr>\n",
       "    <tr>\n",
       "      <th>4</th>\n",
       "      <td>California</td>\n",
       "      <td>CA</td>\n",
       "    </tr>\n",
       "  </tbody>\n",
       "</table>\n",
       "</div>"
      ],
      "text/plain": [
       "        State Abbreviation\n",
       "0     Alabama           AL\n",
       "1      Alaska           AK\n",
       "2     Arizona           AZ\n",
       "3    Arkansas           AR\n",
       "4  California           CA"
      ]
     },
     "execution_count": 13,
     "metadata": {},
     "output_type": "execute_result"
    }
   ],
   "source": [
    "#states = pd.read_csv(\"https://github.com/jasonong/List-of-US-States/blob/master/states.csv\")\n",
    "states = pd.read_csv(\"https://raw.githubusercontent.com/jasonong/List-of-US-States/master/states.csv\")\n",
    "states.head()"
   ]
  },
  {
   "cell_type": "code",
   "execution_count": 28,
   "metadata": {
    "collapsed": false
   },
   "outputs": [
    {
     "data": {
      "text/plain": [
       "0    Alabama\n",
       "1     Alaska\n",
       "2    Arizona\n",
       "Name: State, dtype: object"
      ]
     },
     "execution_count": 28,
     "metadata": {},
     "output_type": "execute_result"
    }
   ],
   "source": [
    "states.Abbreviation.head(n=3)\n",
    "states.State.head(n=3)"
   ]
  },
  {
   "cell_type": "code",
   "execution_count": 31,
   "metadata": {
    "collapsed": false
   },
   "outputs": [
    {
     "data": {
      "text/plain": [
       "0       Alabama\n",
       "1        Alaska\n",
       "2       Arizona\n",
       "3      Arkansas\n",
       "4    California\n",
       "Name: State, dtype: object"
      ]
     },
     "execution_count": 31,
     "metadata": {},
     "output_type": "execute_result"
    }
   ],
   "source": [
    "state_names = pd.Series(states.State)\n",
    "state_names.head()"
   ]
  },
  {
   "cell_type": "code",
   "execution_count": 33,
   "metadata": {
    "collapsed": false
   },
   "outputs": [
    {
     "data": {
      "text/plain": [
       "Abbreviation\n",
       "AL                 Alabama\n",
       "AK                  Alaska\n",
       "AZ                 Arizona\n",
       "AR                Arkansas\n",
       "CA              California\n",
       "CO                Colorado\n",
       "CT             Connecticut\n",
       "DE                Delaware\n",
       "DC    District of Columbia\n",
       "FL                 Florida\n",
       "GA                 Georgia\n",
       "HI                  Hawaii\n",
       "ID                   Idaho\n",
       "IL                Illinois\n",
       "IN                 Indiana\n",
       "IA                    Iowa\n",
       "KS                  Kansas\n",
       "KY                Kentucky\n",
       "LA               Louisiana\n",
       "ME                   Maine\n",
       "MT                 Montana\n",
       "NE                Nebraska\n",
       "NV                  Nevada\n",
       "NH           New Hampshire\n",
       "NJ              New Jersey\n",
       "NM              New Mexico\n",
       "NY                New York\n",
       "NC          North Carolina\n",
       "ND            North Dakota\n",
       "OH                    Ohio\n",
       "OK                Oklahoma\n",
       "OR                  Oregon\n",
       "MD                Maryland\n",
       "MA           Massachusetts\n",
       "MI                Michigan\n",
       "MN               Minnesota\n",
       "MS             Mississippi\n",
       "MO                Missouri\n",
       "PA            Pennsylvania\n",
       "RI            Rhode Island\n",
       "SC          South Carolina\n",
       "SD            South Dakota\n",
       "TN               Tennessee\n",
       "TX                   Texas\n",
       "UT                    Utah\n",
       "VT                 Vermont\n",
       "VA                Virginia\n",
       "WA              Washington\n",
       "WV           West Virginia\n",
       "WI               Wisconsin\n",
       "WY                 Wyoming\n",
       "dtype: object"
      ]
     },
     "execution_count": 33,
     "metadata": {},
     "output_type": "execute_result"
    }
   ],
   "source": [
    "state_names = Series(states.State.values,index=states.Abbreviation)"
   ]
  },
  {
   "cell_type": "code",
   "execution_count": 36,
   "metadata": {
    "collapsed": false
   },
   "outputs": [
    {
     "name": "stdout",
     "output_type": "stream",
     "text": [
      "{'VT': 'Vermont', 'WA': 'Washington', 'FL': 'Florida', 'WV': 'West Virginia', 'AK': 'Alaska', 'OK': 'Oklahoma', 'NV': 'Nevada', 'MO': 'Missouri', 'RI': 'Rhode Island', 'PA': 'Pennsylvania', 'ID': 'Idaho', 'HI': 'Hawaii', 'SC': 'South Carolina', 'AR': 'Arkansas', 'KY': 'Kentucky', 'ME': 'Maine', 'DE': 'Delaware', 'KS': 'Kansas', 'OR': 'Oregon', 'VA': 'Virginia', 'MD': 'Maryland', 'NY': 'New York', 'MN': 'Minnesota', 'NM': 'New Mexico', 'WY': 'Wyoming', 'AZ': 'Arizona', 'UT': 'Utah', 'WI': 'Wisconsin', 'SD': 'South Dakota', 'NC': 'North Carolina', 'IL': 'Illinois', 'TN': 'Tennessee', 'MI': 'Michigan', 'NH': 'New Hampshire', 'MT': 'Montana', 'AL': 'Alabama', 'CA': 'California', 'OH': 'Ohio', 'GA': 'Georgia', 'TX': 'Texas', 'LA': 'Louisiana', 'ND': 'North Dakota', 'NE': 'Nebraska', 'CO': 'Colorado', 'MS': 'Mississippi', 'NJ': 'New Jersey', 'IN': 'Indiana', 'CT': 'Connecticut', 'IA': 'Iowa', 'MA': 'Massachusetts', 'DC': 'District of Columbia'}\n"
     ]
    }
   ],
   "source": [
    "states_dict = Series(states.State.values,index=states.Abbreviation).to_dict()\n",
    "print (states_dict)"
   ]
  },
  {
   "cell_type": "markdown",
   "metadata": {},
   "source": [
    "### todo: \n",
    "1. Create a panda series from a list of state names where U.S.-based students live (or international students have visited most recently)\n",
    "2. Modify this list so that the index names are the two digit state codes.\n",
    "3. Create the same list from a dictionary, where the index is the two digit state code and the Series object's values are the state names."
   ]
  },
  {
   "cell_type": "code",
   "execution_count": 10,
   "metadata": {
    "collapsed": true
   },
   "outputs": [],
   "source": [
    "# code here"
   ]
  },
  {
   "cell_type": "markdown",
   "metadata": {},
   "source": [
    "## sources / references\n",
    "* *Python Data Science Handbook*, Jake VanderPlas, O'Reilly, December 2016.\n",
    "* *Python for Data Analysis, 2nd edition*, Wes McKinney, O'Reilly.  Scheduled for publication in 2017.  Rough cut available behind paywall at O'Reilly Safari site."
   ]
  }
 ],
 "metadata": {
  "anaconda-cloud": {},
  "kernelspec": {
   "display_name": "Python [conda root]",
   "language": "python",
   "name": "conda-root-py"
  },
  "language_info": {
   "codemirror_mode": {
    "name": "ipython",
    "version": 3
   },
   "file_extension": ".py",
   "mimetype": "text/x-python",
   "name": "python",
   "nbconvert_exporter": "python",
   "pygments_lexer": "ipython3",
   "version": "3.5.2"
  }
 },
 "nbformat": 4,
 "nbformat_minor": 1
}
